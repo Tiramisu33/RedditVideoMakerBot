{
 "cells": [
  {
   "cell_type": "code",
   "execution_count": 21,
   "metadata": {},
   "outputs": [
    {
     "name": "stdout",
     "output_type": "stream",
     "text": [
      "Post URL: https://www.reddit.com/r/aksreddit/comments/17zlw9o/why_is_everybody_so_sad/\n",
      "Post Title: Why is everybody so sad?\n",
      "Post Content: Why are we all so sad? I've been going through a period in which I'm not feeling well, I know the reasons but because of my situation it's complicated to change it (the typical thing of eating better, sleeping 8 hours...). The thing is that I see most of the people around me (family, friends, partner...) and even many people on social networks immersed in the same situation of sadness and negativity. Do you feel the same?\n",
      "Top Comments: [Comment(id='ka1g1qn'), Comment(id='l3zm6uh'), Comment(id='ka1jxqn'), Comment(id='kcm8n1m'), Comment(id='kk9517d')]\n",
      "Modern life doesn't reward happiness or positivity. Everything from the news is tailored to be depressing because that's what grabs attention and makes money. \n",
      "\n",
      "In addition, being openly friendly, at least where I live, is seen as socially awkward and weird. People tend to put on a rather stoic face in public. \n",
      "\n",
      "All that said, if you go out of your way to point out something good, people do respond. It's amazing. As a cashier, I'd try to be upbeat and positive for people, and you know what? People seemed to appreciate it. \n",
      "\n",
      "I now make it a secret mission everywhere I go to leave a place a little bit brighter than I found it. Smile at someone, pick up stray trash, help someone find what they need in the store ect... Tiny things, but I like to think it has a positive ripple effect.\n",
      "Please do not pay attention or absorb other people's negativity try to create your own happy place..life is short lived. Are you able to get out for walks, spent time in nature and observe all the beauty it has to offer. Read, play music, volunteer or just randomly help a friend with something, small talk with people you meet in the street, show interest.  There are so many things to make you feel upbeat. Stop reading the socials (comparison is a thieve of joy)  the news .The small things  in life that truly matters. There is so much beauty out there you just have to see it. Start today please :)\n",
      "“Our thought as feeling is the magnet which draws to us those conditions which accurately correspond to itself. This is the meaning of the saying that, ‘thoughts are things’.” Thomas Troward\n",
      "Lol almost 16 years ago you decided to follow people who had interests only in themselves. They did not care about you or your happiness. The only shit they cared about was getting a ton of money and their own narcissism. You placed them in positions of power and give them endless money, you started seeing them as 'role models'. These people have manipulated you into demonizing people who did actually love and care for you. Making you not helping them, making them go through hell because you saw them as enemies.\n",
      "These are the results. You wanted this world. These people are never gonna leave their positions because they feel so powerful in there, further making damages to our world until humanity will get extinct. They only care about themselves and they see you as \"average idiots\" who's all the same and exist just to give them money.\n",
      "Look at them when somebody says what im saying they're just \"haters who envies their success\" and then they'll try to prove that they in fact are good people and we are bad. Even tho they keep you addicted to giving them power and they spy on you, stealing all your data. You have no more privacy. But you keep on giving them. So this is why everyone is sad. If you decided to listen to other people everybody would be happier (and i don't mean fake happiness. I mean true deep happiness), more satisfied and there will be much less drama. Much more understanding and much emphaty. Everybody would not want to try to make everybody jealous of them. But no.\n",
      "And im sorry to call you out like this, all mad, all angry but im mad because right now we could have been going steady, no more wars, much less problems going towards a long and prosperous future for humanity and instead humanity its dying out.\n",
      "As we get older that happens…\n"
     ]
    }
   ],
   "source": [
    "import praw\n",
    "\n",
    "# Create a Reddit instance\n",
    "reddit = praw.Reddit(\n",
    "    client_id=\"GBDYvr4kWkj8asNKzlOQUg\",\n",
    "    client_secret=\"8izpmpdgeJccs80bf_0MTbcNjLkL-g\",\n",
    "    user_agent=\"YOUR_USER_AGENT\",\n",
    ")\n",
    "\n",
    "# Specify the subreddit\n",
    "subreddit_name = \"aksreddit\"\n",
    "subreddit = reddit.subreddit(subreddit_name)\n",
    "\n",
    "# Get the latest post in the subreddit\n",
    "latest_post = subreddit.new(limit=1)\n",
    "\n",
    "# Access the content of the latest post\n",
    "for post in latest_post:\n",
    "    \n",
    "    post_url = post.url\n",
    "    print(\"Post URL:\", post_url)\n",
    "    post_title = post.title\n",
    "    post_content = post.selftext\n",
    "    print(\"Post Title:\", post_title)\n",
    "    print(\"Post Content:\", post_content)\n",
    "    # Get the top comments from the latest post\n",
    "    top_comments = []\n",
    "    # for comment in post.comments:\n",
    "    #     if comment.score > 100:  # Adjust the score threshold as needed\n",
    "    #         top_comments.append(comment.body)\n",
    "\n",
    "    # Rank the comments based on score\n",
    "    top_comments = sorted(post.comments, key=lambda x: x.score, reverse=True)\n",
    "\n",
    "    # Take the top 5 comments\n",
    "    top_comments = top_comments[:5]\n",
    "    print(\"Top Comments:\", top_comments)\n",
    "    # Print the top comments\n",
    "    for comment in top_comments:\n",
    "        print(comment.body)"
   ]
  },
  {
   "cell_type": "code",
   "execution_count": 11,
   "metadata": {},
   "outputs": [
    {
     "name": "stdout",
     "output_type": "stream",
     "text": [
      "As we get older that happens…\n"
     ]
    }
   ],
   "source": [
    "# print(post.comments.list()[0].body)\n",
    "print(comment.body)"
   ]
  },
  {
   "cell_type": "code",
   "execution_count": null,
   "metadata": {},
   "outputs": [],
   "source": []
  }
 ],
 "metadata": {
  "kernelspec": {
   "display_name": ".venv",
   "language": "python",
   "name": "python3"
  },
  "language_info": {
   "codemirror_mode": {
    "name": "ipython",
    "version": 3
   },
   "file_extension": ".py",
   "mimetype": "text/x-python",
   "name": "python",
   "nbconvert_exporter": "python",
   "pygments_lexer": "ipython3",
   "version": "3.10.11"
  }
 },
 "nbformat": 4,
 "nbformat_minor": 2
}
